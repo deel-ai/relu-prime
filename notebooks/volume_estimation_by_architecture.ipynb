{
 "cells": [
  {
   "cell_type": "code",
   "execution_count": 1,
   "metadata": {},
   "outputs": [],
   "source": [
    "import sys\n",
    "sys.path.insert(0,'..')\n",
    "import os\n",
    "import numpy as np\n",
    "import torch\n",
    "import torch.nn as nn\n",
    "import torch.optim as optim\n",
    "from torchvision import datasets, transforms\n",
    "from tqdm.notebook import tqdm\n",
    "import matplotlib.pyplot as plt\n",
    "import pandas as pd\n",
    "import seaborn as sns\n",
    "\n",
    "from relu import ReLUAlpha"
   ]
  },
  {
   "cell_type": "code",
   "execution_count": 2,
   "metadata": {},
   "outputs": [],
   "source": [
    "relu_0 = lambda: ReLUAlpha(0)\n",
    "relu_1 = lambda: ReLUAlpha(1)\n",
    "\n",
    "def get_mlp_network(relu_fn, nb_neurons=512, nb_hidden_layers=2):\n",
    "    \n",
    "    modules = [torch.nn.Linear(28 * 28, nb_neurons), relu_fn()]\n",
    "    for _ in range(nb_hidden_layers-1):\n",
    "        modules.append(torch.nn.Linear(nb_neurons, nb_neurons))\n",
    "        modules.append(relu_fn())\n",
    "    modules.append(torch.nn.Linear(nb_neurons, 10))\n",
    "\n",
    "    return torch.nn.Sequential(*modules)\n",
    "\n",
    "def weight_reset(m):\n",
    "    if isinstance(m, nn.Conv2d) or isinstance(m, nn.Linear):\n",
    "        m.reset_parameters()\n",
    "\n",
    "def copy_params(net1, net2):\n",
    "    params1 = net1.named_parameters()\n",
    "    params2 = net2.named_parameters()\n",
    "\n",
    "    dict_params2 = dict(params2)\n",
    "\n",
    "    for name, param in params1:\n",
    "        if name in dict_params2:\n",
    "            dict_params2[name].data.copy_(param.data)\n",
    "\n",
    "            \n",
    "def build_models(nb_neurons=512, nb_hidden_layers=2, precision=32):\n",
    "    net1 = get_mlp_network(relu_0, nb_neurons, nb_hidden_layers)\n",
    "    net2 = get_mlp_network(relu_1, nb_neurons, nb_hidden_layers)\n",
    "\n",
    "    copy_params(net1, net2)\n",
    "\n",
    "    for net in [net1, net2]:\n",
    "        net.to(device)\n",
    "        if precision == 16:\n",
    "            net.half()\n",
    "        if precision == 64:\n",
    "            net.double()\n",
    "\n",
    "    return net1, net2"
   ]
  },
  {
   "cell_type": "code",
   "execution_count": 3,
   "metadata": {},
   "outputs": [],
   "source": [
    "nb_experiments = 100 #full paper experiment: nb_experiments = 1000\n",
    "batch_size = 256\n",
    "\n",
    "transform = transforms.ToTensor()\n",
    "\n",
    "train_data = datasets.MNIST(root='data', train=True, download=True, transform=transform)\n",
    "train_loader = torch.utils.data.DataLoader(train_data, batch_size=batch_size)\n",
    "\n",
    "df = pd.DataFrame(columns=[\"precision\", \"count\"])\n",
    "device = 'cuda' if torch.cuda.is_available() else 'cpu'"
   ]
  },
  {
   "cell_type": "markdown",
   "metadata": {},
   "source": [
    "## Volume by number of layers"
   ]
  },
  {
   "cell_type": "code",
   "execution_count": 4,
   "metadata": {},
   "outputs": [
    {
     "data": {
      "application/vnd.jupyter.widget-view+json": {
       "model_id": "3ae3347cd5ca4f7088680e63402609e8",
       "version_major": 2,
       "version_minor": 0
      },
      "text/plain": [
       "precision:   0%|          | 0/3 [00:00<?, ?it/s]"
      ]
     },
     "metadata": {},
     "output_type": "display_data"
    },
    {
     "data": {
      "application/vnd.jupyter.widget-view+json": {
       "model_id": "",
       "version_major": 2,
       "version_minor": 0
      },
      "text/plain": [
       "nb_layers:   0%|          | 0/5 [00:00<?, ?it/s]"
      ]
     },
     "metadata": {},
     "output_type": "display_data"
    },
    {
     "data": {
      "application/vnd.jupyter.widget-view+json": {
       "model_id": "",
       "version_major": 2,
       "version_minor": 0
      },
      "text/plain": [
       "run:   0%|          | 0/100 [00:00<?, ?it/s]"
      ]
     },
     "metadata": {},
     "output_type": "display_data"
    },
    {
     "data": {
      "application/vnd.jupyter.widget-view+json": {
       "model_id": "",
       "version_major": 2,
       "version_minor": 0
      },
      "text/plain": [
       "run:   0%|          | 0/100 [00:00<?, ?it/s]"
      ]
     },
     "metadata": {},
     "output_type": "display_data"
    },
    {
     "data": {
      "application/vnd.jupyter.widget-view+json": {
       "model_id": "",
       "version_major": 2,
       "version_minor": 0
      },
      "text/plain": [
       "run:   0%|          | 0/100 [00:00<?, ?it/s]"
      ]
     },
     "metadata": {},
     "output_type": "display_data"
    },
    {
     "data": {
      "application/vnd.jupyter.widget-view+json": {
       "model_id": "",
       "version_major": 2,
       "version_minor": 0
      },
      "text/plain": [
       "run:   0%|          | 0/100 [00:00<?, ?it/s]"
      ]
     },
     "metadata": {},
     "output_type": "display_data"
    },
    {
     "data": {
      "application/vnd.jupyter.widget-view+json": {
       "model_id": "",
       "version_major": 2,
       "version_minor": 0
      },
      "text/plain": [
       "run:   0%|          | 0/100 [00:00<?, ?it/s]"
      ]
     },
     "metadata": {},
     "output_type": "display_data"
    },
    {
     "data": {
      "application/vnd.jupyter.widget-view+json": {
       "model_id": "",
       "version_major": 2,
       "version_minor": 0
      },
      "text/plain": [
       "nb_layers:   0%|          | 0/5 [00:00<?, ?it/s]"
      ]
     },
     "metadata": {},
     "output_type": "display_data"
    },
    {
     "data": {
      "application/vnd.jupyter.widget-view+json": {
       "model_id": "",
       "version_major": 2,
       "version_minor": 0
      },
      "text/plain": [
       "run:   0%|          | 0/100 [00:00<?, ?it/s]"
      ]
     },
     "metadata": {},
     "output_type": "display_data"
    },
    {
     "data": {
      "application/vnd.jupyter.widget-view+json": {
       "model_id": "",
       "version_major": 2,
       "version_minor": 0
      },
      "text/plain": [
       "run:   0%|          | 0/100 [00:00<?, ?it/s]"
      ]
     },
     "metadata": {},
     "output_type": "display_data"
    },
    {
     "data": {
      "application/vnd.jupyter.widget-view+json": {
       "model_id": "",
       "version_major": 2,
       "version_minor": 0
      },
      "text/plain": [
       "run:   0%|          | 0/100 [00:00<?, ?it/s]"
      ]
     },
     "metadata": {},
     "output_type": "display_data"
    },
    {
     "data": {
      "application/vnd.jupyter.widget-view+json": {
       "model_id": "",
       "version_major": 2,
       "version_minor": 0
      },
      "text/plain": [
       "run:   0%|          | 0/100 [00:00<?, ?it/s]"
      ]
     },
     "metadata": {},
     "output_type": "display_data"
    },
    {
     "data": {
      "application/vnd.jupyter.widget-view+json": {
       "model_id": "",
       "version_major": 2,
       "version_minor": 0
      },
      "text/plain": [
       "run:   0%|          | 0/100 [00:00<?, ?it/s]"
      ]
     },
     "metadata": {},
     "output_type": "display_data"
    },
    {
     "data": {
      "application/vnd.jupyter.widget-view+json": {
       "model_id": "",
       "version_major": 2,
       "version_minor": 0
      },
      "text/plain": [
       "nb_layers:   0%|          | 0/5 [00:00<?, ?it/s]"
      ]
     },
     "metadata": {},
     "output_type": "display_data"
    },
    {
     "data": {
      "application/vnd.jupyter.widget-view+json": {
       "model_id": "",
       "version_major": 2,
       "version_minor": 0
      },
      "text/plain": [
       "run:   0%|          | 0/100 [00:00<?, ?it/s]"
      ]
     },
     "metadata": {},
     "output_type": "display_data"
    },
    {
     "data": {
      "application/vnd.jupyter.widget-view+json": {
       "model_id": "",
       "version_major": 2,
       "version_minor": 0
      },
      "text/plain": [
       "run:   0%|          | 0/100 [00:00<?, ?it/s]"
      ]
     },
     "metadata": {},
     "output_type": "display_data"
    },
    {
     "data": {
      "application/vnd.jupyter.widget-view+json": {
       "model_id": "",
       "version_major": 2,
       "version_minor": 0
      },
      "text/plain": [
       "run:   0%|          | 0/100 [00:00<?, ?it/s]"
      ]
     },
     "metadata": {},
     "output_type": "display_data"
    },
    {
     "data": {
      "application/vnd.jupyter.widget-view+json": {
       "model_id": "",
       "version_major": 2,
       "version_minor": 0
      },
      "text/plain": [
       "run:   0%|          | 0/100 [00:00<?, ?it/s]"
      ]
     },
     "metadata": {},
     "output_type": "display_data"
    },
    {
     "data": {
      "application/vnd.jupyter.widget-view+json": {
       "model_id": "",
       "version_major": 2,
       "version_minor": 0
      },
      "text/plain": [
       "run:   0%|          | 0/100 [00:00<?, ?it/s]"
      ]
     },
     "metadata": {},
     "output_type": "display_data"
    }
   ],
   "source": [
    "nb_neurons = 256\n",
    "df = pd.DataFrame(columns=[\"precision\", \"count\", \"nb_layers\"])\n",
    "for precision in tqdm([16,32, 64], desc='precision'):\n",
    "    for nb_layers in tqdm([1,2,3,5,6], desc='nb_layers', leave=False):\n",
    "        count = 0\n",
    "        for run_id in tqdm(range(nb_experiments), desc='run', leave=False):\n",
    "            (net1, net2) = build_models(nb_neurons, nb_layers, precision)\n",
    "            for x, y in train_loader:\n",
    "                x = x.to(device)\n",
    "                if precision == 16:\n",
    "                    x = x.half()\n",
    "                if precision == 64:\n",
    "                    break#x = x.double()\n",
    "                y = y.to(device)\n",
    "                same = True\n",
    "                y1 = net1(x.view(-1, 28 * 28))\n",
    "                y2 = net2(x.view(-1, 28 * 28))\n",
    "                l1 = nn.CrossEntropyLoss()(y1, y)\n",
    "                l2 = nn.CrossEntropyLoss()(y2, y)\n",
    "                l1.backward(), l2.backward()\n",
    "                if (net1[0].weight.grad - net2[0].weight.grad).abs().sum() != 0:\n",
    "                    count += 1\n",
    "                    break\n",
    "        df = df.append({\"precision\": precision,\n",
    "                        \"nb_layers\": nb_layers,\n",
    "                        \"count\": count}, ignore_index=True)\n",
    "df.to_csv(\"volume_estimation_by_number_of_layers_MNIST.csv\")"
   ]
  },
  {
   "cell_type": "code",
   "execution_count": 3,
   "metadata": {},
   "outputs": [],
   "source": [
    "#df = pd.read_csv('../paper_results/section_3/volume_estimation_by_number_of_layers_MNIST.csv')"
   ]
  },
  {
   "cell_type": "code",
   "execution_count": 4,
   "metadata": {},
   "outputs": [
    {
     "data": {
      "image/png": "[encoded data removed]",
      "text/plain": [
       "<Figure size 648x324 with 1 Axes>"
      ]
     },
     "metadata": {
      "needs_background": "light"
     },
     "output_type": "display_data"
    }
   ],
   "source": [
    "df['ratio'] = df['count'] / nb_experiments\n",
    "sns.catplot(x = \"nb_layers\",       \n",
    "            y = \"ratio\",       \n",
    "            hue = \"precision\",                  \n",
    "            data = df,     \n",
    "            kind = \"bar\",\n",
    "            height=4.5, aspect=2,\n",
    "            legend=False\n",
    "            )\n",
    "\n",
    "plt.legend(title='precision', fontsize='30', title_fontsize='30', bbox_to_anchor=(1.05, 1), loc='upper left')\n",
    "plt.xlabel('Number of layers', fontsize='30');\n",
    "plt.ylabel('Ratio of ' + r'$\\theta \\in S$', fontsize='30');\n",
    "plt.yticks(fontsize='30');\n",
    "plt.xticks(fontsize='30');\n",
    "plt.savefig('layers.png')"
   ]
  },
  {
   "cell_type": "markdown",
   "metadata": {},
   "source": [
    "## Volume by number of neurons"
   ]
  },
  {
   "cell_type": "code",
   "execution_count": null,
   "metadata": {},
   "outputs": [],
   "source": [
    "nb_layers = 3\n",
    "df = pd.DataFrame(columns=[\"precision\", \"count\", \"nb_layers\"])\n",
    "for precision in tqdm([16,32, 64], desc='precision'):\n",
    "    for nb_neurons in tqdm([16, 64, 256, 512, 1024], desc='nb_neurons', leave=False):\n",
    "        count = 0\n",
    "        for run_id in tqdm(range(nb_experiments), desc='run', leave=False):\n",
    "            (net1, net2) = build_models(nb_neurons, nb_layers, precision)\n",
    "            for x, y in train_loader:\n",
    "                x = x.to(device)\n",
    "                if precision == 16:\n",
    "                    x = x.half()\n",
    "                if precision == 64:\n",
    "                    x = x.double()\n",
    "                y = y.to(device)\n",
    "                same = True\n",
    "                y1 = net1(x.view(-1, 28 * 28))\n",
    "                y2 = net2(x.view(-1, 28 * 28))\n",
    "                l1 = nn.CrossEntropyLoss()(y1, y)\n",
    "                l2 = nn.CrossEntropyLoss()(y2, y)\n",
    "                l1.backward(), l2.backward()\n",
    "                if (net1[0].weight.grad - net2[0].weight.grad).abs().sum() != 0:\n",
    "                    count += 1\n",
    "                    break\n",
    "        df = df.append({\"precision\": precision,\n",
    "                        \"nb_neurons\": nb_neurons,\n",
    "                        \"count\": count}, ignore_index=True)\n",
    "\n",
    "\n",
    "df.to_csv(\"volume_estimation_by_number_of_neurons_MNIST.csv\")"
   ]
  },
  {
   "cell_type": "code",
   "execution_count": 5,
   "metadata": {},
   "outputs": [],
   "source": [
    "df = pd.read_csv('../paper_results/section_3/volume_estimation_by_number_of_neurons_MNIST.csv')"
   ]
  },
  {
   "cell_type": "code",
   "execution_count": 6,
   "metadata": {},
   "outputs": [
    {
     "data": {
      "image/png": "[encoded data removed]",
      "text/plain": [
       "<Figure size 648x324 with 1 Axes>"
      ]
     },
     "metadata": {
      "needs_background": "light"
     },
     "output_type": "display_data"
    }
   ],
   "source": [
    "df['ratio'] = df['count'] / nb_experiments\n",
    "df = df.astype({\"nb_neurons\": int})\n",
    "sns.catplot(x = \"nb_neurons\",       \n",
    "            y = \"ratio\",       \n",
    "            hue = \"precision\",                  \n",
    "            data = df,     \n",
    "            kind = \"bar\",\n",
    "            height=4.5, aspect=2,\n",
    "            legend=False\n",
    "            )\n",
    "\n",
    "plt.legend(title='precision', fontsize='30', title_fontsize='30', bbox_to_anchor=(1.05, 1), loc='upper left')\n",
    "plt.xlabel('Number of neurons by layer', fontsize='30');\n",
    "plt.ylabel('Ratio of ' + r'$\\theta \\in S$', fontsize='30');\n",
    "plt.yticks(fontsize='30');\n",
    "plt.xticks(fontsize='30');\n",
    "plt.savefig('neurons.png')"
   ]
  },
  {
   "cell_type": "markdown",
   "metadata": {},
   "source": [
    "## Volume by batch size"
   ]
  },
  {
   "cell_type": "code",
   "execution_count": null,
   "metadata": {},
   "outputs": [],
   "source": [
    "nb_layers = 3\n",
    "nb_neurons = 256\n",
    "\n",
    "df = pd.DataFrame(columns=[\"precision\", \"count\", \"nb_layers\"])\n",
    "for precision in tqdm([16,32], desc='precision'):\n",
    "    for batch_size in tqdm([16, 32, 64, 128, 256], desc='batch_size', leave=False):\n",
    "        count = 0\n",
    "        train_loader = torch.utils.data.DataLoader(train_data, batch_size=batch_size)\n",
    "        for run_id in tqdm(range(nb_experiments), desc='run', leave=False):\n",
    "            (net1, net2) = build_models(nb_neurons, nb_layers, precision)\n",
    "            for x, y in train_loader:\n",
    "                x = x.to(device)\n",
    "                if precision == 16:\n",
    "                    x = x.half()\n",
    "                y = y.to(device)\n",
    "                same = True\n",
    "                y1 = net1(x.view(-1, 28 * 28))\n",
    "                y2 = net2(x.view(-1, 28 * 28))\n",
    "                l1 = nn.CrossEntropyLoss()(y1, y)\n",
    "                l2 = nn.CrossEntropyLoss()(y2, y)\n",
    "                l1.backward(), l2.backward()\n",
    "                if (net1[0].weight.grad - net2[0].weight.grad).abs().sum() != 0:\n",
    "                    count += 1\n",
    "                    break\n",
    "        df = df.append({\"precision\": precision,\n",
    "                        \"batch_size\": batch_size,\n",
    "                        \"count\": count}, ignore_index=True)\n",
    "\n",
    "df.to_csv(\"volume_estimation_by_batch_size_MNIST.csv\")"
   ]
  },
  {
   "cell_type": "code",
   "execution_count": 7,
   "metadata": {},
   "outputs": [
    {
     "data": {
      "text/plain": [
       "<seaborn.axisgrid.FacetGrid at 0x7f800cf75b90>"
      ]
     },
     "execution_count": 7,
     "metadata": {},
     "output_type": "execute_result"
    },
    {
     "data": {
      "image/png": "[encoded data removed]",
      "text/plain": [
       "<Figure size 706.375x324 with 1 Axes>"
      ]
     },
     "metadata": {
      "needs_background": "light"
     },
     "output_type": "display_data"
    }
   ],
   "source": [
    "#df = pd.read_csv('../paper_results/section_3/volume_estimation_by_batch_size_MNIST.csv')\n",
    "\n",
    "sns.catplot(x = \"batch_size\",       \n",
    "            y = \"count\",       \n",
    "            hue = \"precision\",                  \n",
    "            data = df,     \n",
    "            kind = \"bar\",\n",
    "            height=4.5, aspect=2,\n",
    "            legend=True\n",
    "            )"
   ]
  },
  {
   "cell_type": "code",
   "execution_count": null,
   "metadata": {},
   "outputs": [],
   "source": []
  }
 ],
 "metadata": {
  "kernelspec": {
   "display_name": "Python 3",
   "language": "python",
   "name": "python3"
  },
  "language_info": {
   "codemirror_mode": {
    "name": "ipython",
    "version": 3
   },
   "file_extension": ".py",
   "mimetype": "text/x-python",
   "name": "python",
   "nbconvert_exporter": "python",
   "pygments_lexer": "ipython3",
   "version": "3.7.10"
  }
 },
 "nbformat": 4,
 "nbformat_minor": 4
}
