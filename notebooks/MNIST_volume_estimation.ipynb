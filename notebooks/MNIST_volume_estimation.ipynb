{
 "cells": [
  {
   "cell_type": "code",
   "execution_count": 1,
   "metadata": {},
   "outputs": [],
   "source": [
    "import sys\n",
    "sys.path.insert(0,'..')\n",
    "import torch\n",
    "import torch.nn as nn\n",
    "from torchvision import datasets, transforms\n",
    "from tqdm.notebook import tqdm\n",
    "import pandas as pd\n",
    "\n",
    "from relu import ReLUAlpha\n",
    "\n",
    "def get_mlp_network(relu_fn, batch_norm=False, nb_neurons=512, nb_hidden_layers=3):\n",
    "    \n",
    "    modules = [torch.nn.Linear(28 * 28, nb_neurons)]\n",
    "    if batch_norm:\n",
    "            modules.append(nn.BatchNorm1d(nb_neurons))\n",
    "    for _ in range(nb_hidden_layers-1):\n",
    "        modules.append(torch.nn.Linear(nb_neurons, nb_neurons))\n",
    "        if batch_norm:\n",
    "            modules.append(nn.BatchNorm1d(nb_neurons))\n",
    "        modules.append(relu_fn())\n",
    "    modules.append(torch.nn.Linear(nb_neurons, 10))\n",
    "\n",
    "    return torch.nn.Sequential(*modules)\n",
    "\n",
    "\n",
    "def copy_params(net1, net2):\n",
    "    params1 = net1.named_parameters()\n",
    "    params2 = net2.named_parameters()\n",
    "\n",
    "    dict_params2 = dict(params2)\n",
    "    for name, param in params1:\n",
    "        if name in dict_params2:\n",
    "            dict_params2[name].data.copy_(param.data)\n",
    "    \n",
    "    \n",
    "relu_0 = lambda: ReLUAlpha(0)\n",
    "relu_1 = lambda: ReLUAlpha(1)\n",
    "\n",
    "def build_models(batchnorm, precision=32, nb_neurons=512, nb_hidden_layers=3):\n",
    "    net1 = get_mlp_network(relu_0, batchnorm, nb_neurons, nb_hidden_layers)\n",
    "    net2 = get_mlp_network(relu_1, batchnorm, nb_neurons, nb_hidden_layers)\n",
    "\n",
    "    copy_params(net1, net2)\n",
    "\n",
    "    for net in [net1, net2]:\n",
    "        net.to(device)\n",
    "        if precision == 16:\n",
    "            net.half()\n",
    "        if precision == 64:\n",
    "            net.double()\n",
    "\n",
    "    return net1, net2"
   ]
  },
  {
   "cell_type": "code",
   "execution_count": 29,
   "metadata": {},
   "outputs": [
    {
     "data": {
      "application/vnd.jupyter.widget-view+json": {
       "model_id": "64bfbafbf5e645ca896f72bd102adaeb",
       "version_major": 2,
       "version_minor": 0
      },
      "text/plain": [
       "precision:   0%|          | 0/3 [00:00<?, ?it/s]"
      ]
     },
     "metadata": {},
     "output_type": "display_data"
    },
    {
     "data": {
      "application/vnd.jupyter.widget-view+json": {
       "model_id": "",
       "version_major": 2,
       "version_minor": 0
      },
      "text/plain": [
       "run:   0%|          | 0/200 [00:00<?, ?it/s]"
      ]
     },
     "metadata": {},
     "output_type": "display_data"
    },
    {
     "data": {
      "application/vnd.jupyter.widget-view+json": {
       "model_id": "",
       "version_major": 2,
       "version_minor": 0
      },
      "text/plain": [
       "run:   0%|          | 0/200 [00:00<?, ?it/s]"
      ]
     },
     "metadata": {},
     "output_type": "display_data"
    },
    {
     "data": {
      "application/vnd.jupyter.widget-view+json": {
       "model_id": "",
       "version_major": 2,
       "version_minor": 0
      },
      "text/plain": [
       "run:   0%|          | 0/1 [00:00<?, ?it/s]"
      ]
     },
     "metadata": {},
     "output_type": "display_data"
    },
    {
     "name": "stdout",
     "output_type": "stream",
     "text": [
      "Ratio of theta in S in 16 bits: 1.0\n",
      "Ratio of theta in S in 32 bits: 0.445\n",
      "Ratio of theta in S in 64 bits: 0.0\n"
     ]
    }
   ],
   "source": [
    "nb_experiments = 100 #full paper experiment: nb_experiments = 1000\n",
    "batch_size = 100\n",
    "transform = transforms.ToTensor()\n",
    "train_data = datasets.MNIST(root='data', train=True, download=True, transform=transform)\n",
    "train_loader = torch.utils.data.DataLoader(train_data, batch_size=batch_size)\n",
    "\n",
    "device = 'cuda' if torch.cuda.is_available() else 'cpu'\n",
    "\n",
    "results = {}\n",
    "for precision in tqdm([16, 32, 64], desc='precision'):\n",
    "    count = 0\n",
    "    if precision == 64:\n",
    "        nb_experiments = 10\n",
    "    for run_id in tqdm(range(nb_experiments), desc='run', leave=False):\n",
    "        (net1, net2) = build_models(False, precision=precision, nb_neurons=256, nb_hidden_layers=3)\n",
    "        for i, (x, y) in enumerate(train_loader):\n",
    "            x = x.to(device)\n",
    "            if precision == 16:\n",
    "                x = x.half()\n",
    "            if precision == 64:\n",
    "                x = x.double()\n",
    "            y = y.to(device)\n",
    "            same = True\n",
    "            y1 = net1(x.view(-1, 28 * 28))\n",
    "            y2 = net2(x.view(-1, 28 * 28))\n",
    "            loss = nn.CrossEntropyLoss()(y1, y) + nn.CrossEntropyLoss()(y2, y)\n",
    "            loss.backward()\n",
    "            if not torch.equal(net1[0].weight.grad, net2[0].weight.grad):\n",
    "                count += 1\n",
    "                break\n",
    "    results[precision] = count / nb_experiments\n",
    "for k in results:\n",
    "    print(f'Ratio of theta in S in {k} bits: {results[k]}')"
   ]
  },
  {
   "cell_type": "code",
   "execution_count": null,
   "metadata": {},
   "outputs": [],
   "source": [
    "nb_experiments = 100 #full paper experiment: nb_experiments = 1000\n",
    "batch_size = 256\n",
    "train_data = datasets.MNIST(root='data', train=True, download=True, transform=transform)\n",
    "train_loader = torch.utils.data.DataLoader(train_data, batch_size=batch_size)\n",
    "\n",
    "df = pd.DataFrame(columns=[\"batchnorm\", \"same\", \"precision\", \"batch_idx\", \"run_id\",\n",
    "                           \"net1_L1\", \"net1_L2\", \"net2_L1\", \"net2_L2\", \"diff_L1\", \"diff_L2\"])\n",
    "device = 'cuda' if torch.cuda.is_available() else 'cpu'\n",
    "\n",
    "for precision in tqdm([16, 32, 64], desc='precision'):\n",
    "    if precision == 64:\n",
    "        nb_experiments = 10\n",
    "    for batchnorm in tqdm([False], desc='batchnorm', leave=False):\n",
    "        for run_id in tqdm(range(nb_experiments), desc='run', leave=False):\n",
    "            (net1, net2) = build_models(batchnorm, precision=precision, nb_neurons=256, nb_hidden_layers=3)\n",
    "            for i, (x, y) in enumerate(train_loader):\n",
    "                x = x.to(device)\n",
    "                if precision == 16:\n",
    "                    x = x.half()\n",
    "                if precision == 64:\n",
    "                    x = x.double()\n",
    "                y = y.to(device)\n",
    "                same = True\n",
    "                y1 = net1(x.view(-1, 28 * 28))\n",
    "                y2 = net2(x.view(-1, 28 * 28))\n",
    "                loss = nn.CrossEntropyLoss()(y1, y) + nn.CrossEntropyLoss()(y2, y)\n",
    "                loss.backward()\n",
    "                if not torch.equal(net1[0].weight.grad, net2[0].weight.grad):\n",
    "                    same = False\n",
    "                diff = net1[0].weight.grad - net2[0].weight.grad\n",
    "                df = df.append({\"run_id\": run_id,\n",
    "                                \"batchnorm\": batchnorm,\n",
    "                                \"same\": same,\n",
    "                                \"precision\": precision,\n",
    "                                \"net1_L1\": torch.linalg.norm(net1[0].weight.grad.view(-1), 1).item(),\n",
    "                                \"net1_L2\": torch.linalg.norm(net1[0].weight.grad.view(-1), 2).item(),\n",
    "                                \"net2_L1\": torch.linalg.norm(net2[0].weight.grad.view(-1), 1).item(),\n",
    "                                \"net2_L2\": torch.linalg.norm(net2[0].weight.grad.view(-1), 2).item(),\n",
    "                                \"diff_L1\": torch.linalg.norm(diff.view(-1), 1),\n",
    "                                \"diff_L2\": torch.linalg.norm(diff.view(-1), 2),\n",
    "                                \"batch_idx\": i}, ignore_index=True)\n",
    "                if same == False:\n",
    "                        break\n",
    "\n",
    "file_path = os.path.join(outdir, \"volume_estimation_sample_MNIST.csv\")\n",
    "df.to_csv(file_path)"
   ]
  },
  {
   "cell_type": "code",
   "execution_count": 2,
   "metadata": {},
   "outputs": [],
   "source": [
    "#df = pd.read_csv('../paper_results/section_3/volume_estimation_by_sample_size_MNIST.csv')"
   ]
  },
  {
   "cell_type": "code",
   "execution_count": 3,
   "metadata": {},
   "outputs": [],
   "source": [
    "import matplotlib.pyplot as plt\n",
    "\n",
    "def prepare_volume_plot(df, max_size, batch_size):\n",
    "    dfs = []\n",
    "    for precision in [16, 32]:\n",
    "        tmp = df[df['precision'] == precision]\n",
    "        max_len = len(tmp.run_id.unique())\n",
    "        tmp = tmp[['batch_idx', 'same']].groupby(['batch_idx']).sum().reset_index()\n",
    "        tmp['div'] = (max_len-tmp['same'])/max_len\n",
    "        for i in range(tmp.batch_idx.count(), max_size):\n",
    "            tmp = tmp.append({\"div\": 1.,\n",
    "                                \"same\": max_len,\n",
    "                                \"batch_idx\": i}, ignore_index=True)\n",
    "        tmp['batch_idx'] = tmp['batch_idx'] * batch_size\n",
    "        tmp = tmp.astype({\"div\":float})\n",
    "        dfs.append(tmp)\n",
    "    return dfs[0], dfs[1]\n",
    "\n",
    "def plot_volume_estimation(df, max_size, batch_size=128):\n",
    "    df16, df32 = prepare_volume_plot(df, max_size, batch_size)\n",
    "    \n",
    "    plt.figure(figsize=(15,5))\n",
    "    plt.plot(df32['batch_idx'], df32['div'].values, label='32 bits')\n",
    "    plt.plot(df16['batch_idx'], df16['div'].values, label='16 bits')\n",
    "    plt.fill_between(df32['batch_idx'].values, df32['div'].values, alpha=0.3)\n",
    "    plt.fill_between(df16['batch_idx'].values, df16['div'].values, alpha=.3)\n",
    "    leg = plt.legend(title=\"Precision\", fontsize='25', title_fontsize='25', loc='lower right')\n",
    "    plt.xlabel('sample size', fontsize='25');\n",
    "    plt.ylabel('Ratio of ' + r'$\\theta \\in S$', fontsize='30');plt.yticks(fontsize='25');\n",
    "    plt.xticks(fontsize='25');\n",
    "    for line in leg.get_lines():\n",
    "        line.set_linewidth(10.0)"
   ]
  },
  {
   "cell_type": "code",
   "execution_count": 4,
   "metadata": {},
   "outputs": [
    {
     "data": {
      "image/png": "[encoded data removed]",
      "text/plain": [
       "<Figure size 1080x360 with 1 Axes>"
      ]
     },
     "metadata": {
      "needs_background": "light"
     },
     "output_type": "display_data"
    }
   ],
   "source": [
    "plot_volume_estimation(df[df['batchnorm']==False], 235, batch_size=256)"
   ]
  },
  {
   "cell_type": "code",
   "execution_count": 5,
   "metadata": {},
   "outputs": [],
   "source": [
    "nb_experiments = 1000\n",
    "batch_size = 256\n",
    "train_data = datasets.MNIST(root='data', train=True, download=True, transform=transform)\n",
    "train_loader = torch.utils.data.DataLoader(train_data, batch_size=batch_size)\n",
    "\n",
    "df = pd.DataFrame(columns=[\"batchnorm\", \"same\", \"precision\", \"batch_idx\", \"run_id\",\n",
    "                           \"net1_L1\", \"net1_L2\", \"net2_L1\", \"net2_L2\", \"diff_L1\", \"diff_L2\"])\n",
    "device = 'cuda' if torch.cuda.is_available() else 'cpu'\n",
    "\n",
    "for precision in tqdm([16, 32, 64], desc='precision'):\n",
    "    if precision == 64:\n",
    "        nb_experiments = 10\n",
    "    for batchnorm in tqdm([False], desc='batchnorm', leave=False):\n",
    "        for run_id in tqdm(range(nb_experiments), desc='run', leave=False):\n",
    "            (net1, net2) = build_models(batchnorm, precision=precision, nb_neurons=256, nb_hidden_layers=3)\n",
    "            opt = torch.optim.SGD([{'params': net1.parameters()}, {'params': net2.parameters()}], lr=0)\n",
    "            for i, (x, y) in enumerate(train_loader):\n",
    "                opt.zero_grad()\n",
    "                x = x.to(device)\n",
    "                if precision == 16:\n",
    "                    x = x.half()\n",
    "                if precision == 64:\n",
    "                    x = x.double()\n",
    "                y = y.to(device)\n",
    "                same = True\n",
    "                y1 = net1(x.view(-1, 28 * 28))\n",
    "                y2 = net2(x.view(-1, 28 * 28))\n",
    "                loss = nn.CrossEntropyLoss()(y1, y) + nn.CrossEntropyLoss()(y2, y)\n",
    "                loss.backward()\n",
    "                if not torch.equal(net1[0].weight.grad, net2[0].weight.grad):\n",
    "                    same = False\n",
    "                diff = net1[0].weight.grad - net2[0].weight.grad\n",
    "                df = df.append({\"run_id\": run_id,\n",
    "                                \"batchnorm\": batchnorm,\n",
    "                                \"same\": same,\n",
    "                                \"precision\": precision,\n",
    "                                \"net1_L1\": torch.linalg.norm(net1[0].weight.grad.view(-1), 1).item(),\n",
    "                                \"net1_L2\": torch.linalg.norm(net1[0].weight.grad.view(-1), 2).item(),\n",
    "                                \"net2_L1\": torch.linalg.norm(net2[0].weight.grad.view(-1), 1).item(),\n",
    "                                \"net2_L2\": torch.linalg.norm(net2[0].weight.grad.view(-1), 2).item(),\n",
    "                                \"diff_L1\": torch.linalg.norm(diff.view(-1), 1).item(),\n",
    "                                \"diff_L2\": torch.linalg.norm(diff.view(-1), 2).item(),\n",
    "                                \"batch_idx\": i}, ignore_index=True)\n",
    "                \n",
    "\n",
    "file_path = os.path.join(outdir, \"norm_diff_estimation_MNIST.csv\")\n",
    "df.to_csv(file_path)"
   ]
  },
  {
   "cell_type": "code",
   "execution_count": null,
   "metadata": {},
   "outputs": [],
   "source": []
  }
 ],
 "metadata": {
  "kernelspec": {
   "display_name": "Python 3",
   "language": "python",
   "name": "python3"
  },
  "language_info": {
   "codemirror_mode": {
    "name": "ipython",
    "version": 3
   },
   "file_extension": ".py",
   "mimetype": "text/x-python",
   "name": "python",
   "nbconvert_exporter": "python",
   "pygments_lexer": "ipython3",
   "version": "3.7.8"
  }
 },
 "nbformat": 4,
 "nbformat_minor": 4
}
