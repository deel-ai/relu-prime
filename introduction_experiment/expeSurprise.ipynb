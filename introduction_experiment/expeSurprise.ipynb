{
 "cells": [
  {
   "cell_type": "markdown",
   "metadata": {},
   "source": [
    "# Experiment 1\n",
    "\n",
    "We want to show that the differences do not come from numerical precision but from incoming zeros during back propagation"
   ]
  },
  {
   "cell_type": "markdown",
   "metadata": {},
   "source": [
    "## Protocol:\n",
    "\n",
    "* We initialize three networks:\n",
    "    - One using the modified version of RelU as activation function\n",
    "    - Two others using the original pytorch RelU as activation function\n",
    "* We set the same initialization on all networks\n",
    "* We train the three networks with the same batches\n",
    "* We keep track of the $L^1$ norm of difference of weight matrices and bias vectors between the three networks \n",
    "* We keep track of the minimal absolute activation of the first hidden layer before application of ReLU."
   ]
  },
  {
   "cell_type": "code",
   "execution_count": 1,
   "metadata": {},
   "outputs": [],
   "source": [
    "import numpy as np\n",
    "import numpy.random as npr\n",
    "import argparse\n",
    "import torch\n",
    "import torch.nn as nn\n",
    "from relu import MyReLU\n",
    "import torch.optim as optim\n",
    "from torchvision import datasets, transforms\n",
    "from tqdm import tqdm\n",
    "import matplotlib.pyplot as plt\n",
    "\n",
    "\n",
    "\n",
    "## Double precision or not?\n",
    "doublePrecision = False\n",
    "doublePrecision = True\n",
    "\n",
    "## To save results\n",
    "bitsString = \"32bits\"\n",
    "if doublePrecision:\n",
    "    bitsString = \"64bits\"\n",
    "\n",
    "\n",
    "if doublePrecision:\n",
    "    torch.set_default_tensor_type(torch.DoubleTensor)\n",
    "    torch.set_default_dtype(torch.float64)\n",
    "\n"
   ]
  },
  {
   "cell_type": "markdown",
   "metadata": {},
   "source": [
    "## Load Data"
   ]
  },
  {
   "cell_type": "code",
   "execution_count": 2,
   "metadata": {},
   "outputs": [],
   "source": [
    "## Initialize random seed\n",
    "np.random.seed(12345)\n",
    "torch.manual_seed(123)\n",
    "\n",
    "## Load Training data\n",
    "\n",
    "batch_size = 128\n",
    "\n",
    "transform = transforms.ToTensor()\n",
    "\n",
    "train_data = datasets.MNIST(root='data', train=True,\n",
    "                                   download=True, transform=transform)\n",
    "test_data = datasets.MNIST(root='data', train=False,\n",
    "                                  download=True, transform=transform)\n",
    "\n",
    "train_loader = torch.utils.data.DataLoader(train_data, batch_size=batch_size)\n",
    "test_loader = torch.utils.data.DataLoader(test_data, batch_size=batch_size)\n"
   ]
  },
  {
   "cell_type": "markdown",
   "metadata": {},
   "source": [
    "## Build Models"
   ]
  },
  {
   "cell_type": "code",
   "execution_count": 3,
   "metadata": {},
   "outputs": [
    {
     "name": "stdout",
     "output_type": "stream",
     "text": [
      "==> Building models..\n",
      "==> Copying models initial parameters..\n",
      "Sequential(\n",
      "  (0): Linear(in_features=784, out_features=2000, bias=True)\n",
      "  (1): MyReLU()\n",
      "  (2): Linear(in_features=2000, out_features=128, bias=True)\n",
      "  (3): MyReLU()\n",
      "  (4): Linear(in_features=128, out_features=10, bias=True)\n",
      ")\n",
      "Sequential(\n",
      "  (0): Linear(in_features=784, out_features=2000, bias=True)\n",
      "  (1): ReLU()\n",
      "  (2): Linear(in_features=2000, out_features=128, bias=True)\n",
      "  (3): ReLU()\n",
      "  (4): Linear(in_features=128, out_features=10, bias=True)\n",
      ")\n",
      "Sequential(\n",
      "  (0): Linear(in_features=784, out_features=2000, bias=True)\n",
      "  (1): ReLU()\n",
      "  (2): Linear(in_features=2000, out_features=128, bias=True)\n",
      "  (3): ReLU()\n",
      "  (4): Linear(in_features=128, out_features=10, bias=True)\n",
      ")\n"
     ]
    }
   ],
   "source": [
    "print('==> Building models..')\n",
    "net1 = torch.nn.Sequential(\n",
    "    torch.nn.Linear(28*28, 2000),\n",
    "    MyReLU(),\n",
    "    torch.nn.Linear(2000, 128),\n",
    "    MyReLU(),\n",
    "    torch.nn.Linear(128, 10))\n",
    "\n",
    "net2 = torch.nn.Sequential(\n",
    "    torch.nn.Linear(28*28,2000),\n",
    "    torch.nn.ReLU(),\n",
    "    torch.nn.Linear(2000, 128),\n",
    "    torch.nn.ReLU(),\n",
    "    torch.nn.Linear(128, 10))\n",
    "\n",
    "net3 = torch.nn.Sequential(\n",
    "    torch.nn.Linear(28*28,2000),\n",
    "    torch.nn.ReLU(),\n",
    "    torch.nn.Linear(2000, 128),\n",
    "    torch.nn.ReLU(),\n",
    "    torch.nn.Linear(128, 10))\n",
    "\n",
    "if doublePrecision:\n",
    "    net1 = net1.to(torch.float64)\n",
    "    net2 = net2.to(torch.float64)\n",
    "    net3 = net3.to(torch.float64)\n",
    "\n",
    "\n",
    "print('==> Copying models initial parameters..')\n",
    "params1 = net1.named_parameters()\n",
    "params2 = net2.named_parameters()\n",
    "params3 = net3.named_parameters()\n",
    "\n",
    "\n",
    "dict_params2 = dict(params2)\n",
    "dict_params3 = dict(params3)\n",
    "\n",
    "for name, param in params1:\n",
    "    if name in dict_params2:\n",
    "        dict_params2[name].data.copy_(param.data)\n",
    "    if name in dict_params3:\n",
    "        dict_params3[name].data.copy_(param.data)\n",
    "\n",
    "nets = [net1, net2, net3]\n",
    "\n",
    "device = 'cuda' if torch.cuda.is_available() else 'cpu'\n",
    "for net in nets:\n",
    "    net.to(device)\n",
    "    print(net)\n",
    "\n",
    "optimizers = []\n",
    "lr = 0.01 * (npr.random(1)[0]/5.0+1) \n",
    "for net in nets:\n",
    "    optimizers.append(torch.optim.SGD(net.parameters(), lr=lr))\n",
    "    \n",
    "criterion = nn.CrossEntropyLoss()"
   ]
  },
  {
   "cell_type": "markdown",
   "metadata": {},
   "source": [
    "## Training"
   ]
  },
  {
   "cell_type": "code",
   "execution_count": 4,
   "metadata": {},
   "outputs": [
    {
     "name": "stderr",
     "output_type": "stream",
     "text": [
      "                                                 \r"
     ]
    }
   ],
   "source": [
    "for net in nets:\n",
    "    net.train()\n",
    "\n",
    "t = tqdm(iter(train_loader), leave=False, total=len(train_loader))\n",
    "NstepMax = t.total \n",
    "\n",
    "## Difference between weights\n",
    "difference12 = np.zeros(NstepMax)\n",
    "difference23 = np.zeros(NstepMax)\n",
    "\n",
    "## Activation of the first layer before application of relu\n",
    "active1 = np.zeros(NstepMax)\n",
    "active2 = np.zeros(NstepMax)\n",
    "active3 = np.zeros(NstepMax)\n",
    "\n",
    "for batch_idx, (inputs, targets) in enumerate(t):\n",
    "    ## Forward path for each network\n",
    "    for i in range(len(nets)):\n",
    "        optimizers[i].zero_grad()\n",
    "        if doublePrecision:\n",
    "            inView = inputs.view(-1, 28 * 28).to(torch.float64)\n",
    "            outputs = nets[i](inView)\n",
    "            loss = criterion(outputs, targets).to(torch.float64)\n",
    "        else:\n",
    "            inView = inputs.view(-1, 28 * 28)\n",
    "            outputs = nets[i](inView)\n",
    "            loss = criterion(outputs, targets)\n",
    "        loss.backward()\n",
    "        \n",
    "        ## Keep track of activations\n",
    "        active1[batch_idx] =  torch.min(torch.abs(net1[0](inView))).detach().numpy()\n",
    "        active2[batch_idx] =  torch.min(torch.abs(net2[0](inView))).detach().numpy()\n",
    "        active3[batch_idx] =  torch.min(torch.abs(net3[0](inView))).detach().numpy()\n",
    "    \n",
    "    ## Keep track of weight differences\n",
    "    sum1 = 0\n",
    "    sum2 = 0\n",
    "    for j in [0, 2, 4]:\n",
    "        sum1 += torch.abs(net1[j].weight - net2[j].weight).sum()\n",
    "        sum1 += torch.abs(net1[j].bias - net2[j].bias).sum()\n",
    "        sum2 += torch.abs(net3[j].weight - net2[j].weight).sum()\n",
    "        sum2 += torch.abs(net3[j].bias - net2[j].bias).sum()\n",
    "                \n",
    "    difference12[batch_idx] = sum1\n",
    "    difference23[batch_idx] = sum2\n",
    "    \n",
    "    ## Perform an otptimization step for each network\n",
    "    for i in range(len(nets)):\n",
    "        optimizers[i].step()"
   ]
  },
  {
   "cell_type": "markdown",
   "metadata": {},
   "source": [
    "### Plots wieght difference"
   ]
  },
  {
   "cell_type": "code",
   "execution_count": 5,
   "metadata": {},
   "outputs": [
    {
     "data": {
      "image/png": "[encoded data removed]",
      "text/plain": [
       "<Figure size 240x160 with 1 Axes>"
      ]
     },
     "metadata": {},
     "output_type": "display_data"
    }
   ],
   "source": [
    "\n",
    "\n",
    "plt.figure(num=None, figsize=(3, 2), dpi=80, facecolor='w', edgecolor='k')\n",
    "    \n",
    "plt.plot(difference12[0:100], label = \"1 vs 0\")\n",
    "plt.plot(difference23[0:100], label = \"0 vs 0\")\n",
    "plt.xlabel(\"Iteration counter\")\n",
    "plt.ylabel(\"Weight difference \"+bitsString)\n",
    "plt.legend()\n",
    "\n",
    "plt.savefig('diffRelu'+bitsString+'.pdf', bbox_inches='tight')"
   ]
  },
  {
   "cell_type": "markdown",
   "metadata": {},
   "source": [
    "### Plot minimal magnitude before activation"
   ]
  },
  {
   "cell_type": "code",
   "execution_count": 6,
   "metadata": {},
   "outputs": [
    {
     "name": "stderr",
     "output_type": "stream",
     "text": [
      "No handles with labels found to put in legend.\n"
     ]
    },
    {
     "data": {
      "image/png": "[encoded data removed]",
      "text/plain": [
       "<Figure size 240x160 with 1 Axes>"
      ]
     },
     "metadata": {},
     "output_type": "display_data"
    }
   ],
   "source": [
    "plt.figure(num=None, figsize=(3, 2), dpi=80, facecolor='w', edgecolor='k')\n",
    "plt.plot(active1[0:100])\n",
    "plt.yscale(\"log\")\n",
    "plt.xlabel(\"Iteration counter\")\n",
    "plt.ylabel(\"Minimal activation \" + bitsString)\n",
    "plt.legend()\n",
    "plt.savefig('minActivation'+bitsString+'.pdf', bbox_inches='tight')"
   ]
  },
  {
   "cell_type": "markdown",
   "metadata": {},
   "source": [
    "## Investigating the shape of the bifurcation zone\n",
    "### Initialize networks in the exact same way and train in 32 bits"
   ]
  },
  {
   "cell_type": "code",
   "execution_count": 7,
   "metadata": {},
   "outputs": [],
   "source": [
    "## Initialize random seed\n",
    "np.random.seed(12345)\n",
    "torch.manual_seed(123)\n",
    "\n",
    "\n",
    "torch.set_default_tensor_type(torch.FloatTensor)\n",
    "torch.set_default_dtype(torch.float32)\n",
    "\n",
    "## Load Training data\n",
    "\n",
    "batch_size = 128\n",
    "\n",
    "transform = transforms.ToTensor()\n",
    "\n",
    "train_data = datasets.MNIST(root='data', train=True,\n",
    "                                   download=True, transform=transform)\n",
    "test_data = datasets.MNIST(root='data', train=False,\n",
    "                                  download=True, transform=transform)\n",
    "\n",
    "train_loader = torch.utils.data.DataLoader(train_data, batch_size=batch_size)\n",
    "test_loader = torch.utils.data.DataLoader(test_data, batch_size=batch_size)\n"
   ]
  },
  {
   "cell_type": "code",
   "execution_count": 8,
   "metadata": {},
   "outputs": [
    {
     "name": "stdout",
     "output_type": "stream",
     "text": [
      "==> Building models..\n",
      "==> Copying models initial parameters..\n",
      "Sequential(\n",
      "  (0): Linear(in_features=784, out_features=2000, bias=True)\n",
      "  (1): MyReLU()\n",
      "  (2): Linear(in_features=2000, out_features=128, bias=True)\n",
      "  (3): MyReLU()\n",
      "  (4): Linear(in_features=128, out_features=10, bias=True)\n",
      ")\n",
      "Sequential(\n",
      "  (0): Linear(in_features=784, out_features=2000, bias=True)\n",
      "  (1): ReLU()\n",
      "  (2): Linear(in_features=2000, out_features=128, bias=True)\n",
      "  (3): ReLU()\n",
      "  (4): Linear(in_features=128, out_features=10, bias=True)\n",
      ")\n",
      "Sequential(\n",
      "  (0): Linear(in_features=784, out_features=2000, bias=True)\n",
      "  (1): ReLU()\n",
      "  (2): Linear(in_features=2000, out_features=128, bias=True)\n",
      "  (3): ReLU()\n",
      "  (4): Linear(in_features=128, out_features=10, bias=True)\n",
      ")\n"
     ]
    }
   ],
   "source": [
    "print('==> Building models..')\n",
    "net1 = torch.nn.Sequential(\n",
    "    torch.nn.Linear(28*28, 2000),\n",
    "    MyReLU(),\n",
    "    torch.nn.Linear(2000, 128),\n",
    "    MyReLU(),\n",
    "    torch.nn.Linear(128, 10))\n",
    "\n",
    "net2 = torch.nn.Sequential(\n",
    "    torch.nn.Linear(28*28,2000),\n",
    "    torch.nn.ReLU(),\n",
    "    torch.nn.Linear(2000, 128),\n",
    "    torch.nn.ReLU(),\n",
    "    torch.nn.Linear(128, 10))\n",
    "\n",
    "net3 = torch.nn.Sequential(\n",
    "    torch.nn.Linear(28*28,2000),\n",
    "    torch.nn.ReLU(),\n",
    "    torch.nn.Linear(2000, 128),\n",
    "    torch.nn.ReLU(),\n",
    "    torch.nn.Linear(128, 10))\n",
    "\n",
    "\n",
    "\n",
    "print('==> Copying models initial parameters..')\n",
    "params1 = net1.named_parameters()\n",
    "params2 = net2.named_parameters()\n",
    "params3 = net3.named_parameters()\n",
    "\n",
    "\n",
    "dict_params2 = dict(params2)\n",
    "dict_params3 = dict(params3)\n",
    "\n",
    "for name, param in params1:\n",
    "    if name in dict_params2:\n",
    "        dict_params2[name].data.copy_(param.data)\n",
    "    if name in dict_params3:\n",
    "        dict_params3[name].data.copy_(param.data)\n",
    "\n",
    "nets = [net1, net2, net3]\n",
    "\n",
    "device = 'cuda' if torch.cuda.is_available() else 'cpu'\n",
    "for net in nets:\n",
    "    net.to(device)\n",
    "    print(net)\n",
    "\n",
    "optimizers = []\n",
    "lr = 0.01 * (npr.random(1)[0]/5.0+1) \n",
    "for net in nets:\n",
    "    optimizers.append(torch.optim.SGD(net.parameters(), lr=lr))\n",
    "    \n",
    "criterion = nn.CrossEntropyLoss()"
   ]
  },
  {
   "cell_type": "markdown",
   "metadata": {},
   "source": [
    "### Retrain and stop at bifurcation"
   ]
  },
  {
   "cell_type": "code",
   "execution_count": 9,
   "metadata": {},
   "outputs": [
    {
     "name": "stderr",
     "output_type": "stream",
     "text": [
      "                                                \r"
     ]
    }
   ],
   "source": [
    "for net in nets:\n",
    "    net.train()\n",
    "\n",
    "t = tqdm(iter(train_loader), leave=False, total=len(train_loader))\n",
    "NstepMax = t.total \n",
    "\n",
    "## Difference between weights\n",
    "difference12 = np.zeros(NstepMax)\n",
    "difference23 = np.zeros(NstepMax)\n",
    "\n",
    "## Activation of the first layer before application of relu\n",
    "active1 = np.zeros(NstepMax)\n",
    "active2 = np.zeros(NstepMax)\n",
    "active3 = np.zeros(NstepMax)\n",
    "\n",
    "for batch_idx, (inputs, targets) in enumerate(t):\n",
    "    ## Forward path for each network\n",
    "    for i in range(len(nets)):\n",
    "        optimizers[i].zero_grad()\n",
    "        inView = inputs.view(-1, 28 * 28)\n",
    "        outputs = nets[i](inView)\n",
    "        loss = criterion(outputs, targets)\n",
    "        loss.backward()\n",
    "        \n",
    "        ## Keep track of activations\n",
    "        active1[batch_idx] =  torch.min(torch.abs(net1[0](inView))).detach().numpy()\n",
    "        active2[batch_idx] =  torch.min(torch.abs(net2[0](inView))).detach().numpy()\n",
    "        active3[batch_idx] =  torch.min(torch.abs(net3[0](inView))).detach().numpy()\n",
    "    \n",
    "    ## Keep track of weight differences\n",
    "    sum1 = 0\n",
    "    sum2 = 0\n",
    "    for j in [0, 2, 4]:\n",
    "        sum1 += torch.abs(net1[j].weight - net2[j].weight).sum()\n",
    "        sum1 += torch.abs(net1[j].bias - net2[j].bias).sum()\n",
    "        sum2 += torch.abs(net3[j].weight - net2[j].weight).sum()\n",
    "        sum2 += torch.abs(net3[j].bias - net2[j].bias).sum()\n",
    "                \n",
    "    difference12[batch_idx] = sum1\n",
    "    difference23[batch_idx] = sum2\n",
    "    \n",
    "    if active1[batch_idx]==0:\n",
    "        break\n",
    "    \n",
    "    ## Perform an otptimization step for each network\n",
    "    for i in range(len(nets)):\n",
    "        optimizers[i].step()"
   ]
  },
  {
   "cell_type": "code",
   "execution_count": 10,
   "metadata": {},
   "outputs": [
    {
     "name": "stdout",
     "output_type": "stream",
     "text": [
      "117\n",
      "267\n"
     ]
    }
   ],
   "source": [
    "## Print the problematic index \n",
    "tempWhere = np.where((net1[0](inView)).detach().numpy() == 0)\n",
    "id1 = tempWhere[0][0]\n",
    "id2 = tempWhere[1][0]\n",
    "print(id1)\n",
    "print(id2)\n"
   ]
  },
  {
   "cell_type": "markdown",
   "metadata": {},
   "source": [
    "### Look in a randomly generated hyperplane"
   ]
  },
  {
   "cell_type": "code",
   "execution_count": 22,
   "metadata": {},
   "outputs": [],
   "source": [
    "import copy\n",
    "torch.manual_seed(123)\n",
    "\n",
    "perturb1 = torch.rand(net1[0].weight.shape)\n",
    "perturb1 = perturb1 / torch.norm(perturb1)\n",
    "perturb2 = torch.rand(net1[0].weight.shape)\n",
    "perturb2 = perturb2 / torch.norm(perturb2)\n",
    "net1bis = copy.deepcopy(net1)\n",
    "weightSave = net1[0].weight.clone()\n",
    "\n",
    "if doublePrecision:\n",
    "    torch.set_default_tensor_type(torch.DoubleTensor)\n",
    "    torch.set_default_dtype(torch.float64)\n",
    "    inView = inView.to(torch.float64)\n",
    "    perturb1 = perturb1.to(torch.float64)\n",
    "    perturb2 = perturb2.to(torch.float64)\n",
    "    weightSave = weightSave.to(torch.float64)\n",
    "    net1 = net1.to(torch.float64)\n",
    "    net1bis = net1bis.to(torch.float64)\n",
    "    net2 = net2.to(torch.float64)\n",
    "    net3 = net3.to(torch.float64)\n",
    "\n",
    "\n",
    "\n",
    "\n",
    "\n",
    "N = 100\n",
    "\n",
    "x = np.arange(-N,N) / N * 5 / 10**6 \n",
    "y = np.arange(-N,N) / N * 5 / 10**6 \n",
    "X, Y = np.meshgrid(x, y)\n",
    "Z = np.zeros((x.size, y.size))\n",
    "for i in range(x.size):\n",
    "    for j in range(y.size):\n",
    "        net1bis[0].weight = torch.nn.Parameter(weightSave +  x[i] * perturb1 + y[j] * perturb2)\n",
    "        Z[i,j] = torch.abs(net1bis[0](inView)[id1,id2]).detach().numpy()\n"
   ]
  },
  {
   "cell_type": "code",
   "execution_count": 23,
   "metadata": {
    "scrolled": true
   },
   "outputs": [
    {
     "data": {
      "image/png": "[encoded data removed]",
      "text/plain": [
       "<Figure size 240x160 with 2 Axes>"
      ]
     },
     "metadata": {},
     "output_type": "display_data"
    }
   ],
   "source": [
    "levelsToPlot = 10**(np.arange(2,20) / 20 * 4 - 9)\n",
    "if doublePrecision:\n",
    "    levelsToPlot = 10**(np.arange(-4,20) / 20 * 4 - 9)\n",
    "\n",
    "from matplotlib import ticker, cm\n",
    "from matplotlib.colors import LogNorm\n",
    "plt.figure(num=None, figsize=(3, 2), dpi=80, facecolor='w', edgecolor='k')\n",
    "plt.contourf(X, Y, Z, levels=levelsToPlot, locator=ticker.LogLocator(), cmap=cm.PuBu_r)\n",
    "\n",
    "\n",
    "cbar = plt.colorbar()\n",
    "cbar_ticks = 10.0**(np.arange(0,15)-9)\n",
    "cbar.set_ticks(cbar_ticks)\n",
    "plt.savefig('bifurcationZone'+bitsString+'.pdf', bbox_inches='tight')"
   ]
  },
  {
   "cell_type": "code",
   "execution_count": 13,
   "metadata": {},
   "outputs": [
    {
     "data": {
      "text/plain": [
       "65"
      ]
     },
     "execution_count": 13,
     "metadata": {},
     "output_type": "execute_result"
    }
   ],
   "source": [
    "batch_idx"
   ]
  },
  {
   "cell_type": "code",
   "execution_count": 17,
   "metadata": {},
   "outputs": [
    {
     "data": {
      "text/plain": [
       "tensor([[0., 0., 0.,  ..., 0., 0., 0.],\n",
       "        [0., 0., 0.,  ..., 0., 0., 0.],\n",
       "        [0., 0., 0.,  ..., 0., 0., 0.],\n",
       "        ...,\n",
       "        [0., 0., 0.,  ..., 0., 0., 0.],\n",
       "        [0., 0., 0.,  ..., 0., 0., 0.],\n",
       "        [0., 0., 0.,  ..., 0., 0., 0.]], dtype=torch.float32)"
      ]
     },
     "execution_count": 17,
     "metadata": {},
     "output_type": "execute_result"
    }
   ],
   "source": []
  }
 ],
 "metadata": {
  "kernelspec": {
   "display_name": "Python 3",
   "language": "python",
   "name": "python3"
  },
  "language_info": {
   "codemirror_mode": {
    "name": "ipython",
    "version": 3
   },
   "file_extension": ".py",
   "mimetype": "text/x-python",
   "name": "python",
   "nbconvert_exporter": "python",
   "pygments_lexer": "ipython3",
   "version": "3.7.10"
  }
 },
 "nbformat": 4,
 "nbformat_minor": 4
}
